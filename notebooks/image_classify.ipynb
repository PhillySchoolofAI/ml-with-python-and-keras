{
 "cells": [
  {
   "cell_type": "markdown",
   "metadata": {},
   "source": [
    "## Imports & methods for plotting graphs"
   ]
  },
  {
   "cell_type": "code",
   "execution_count": 1,
   "metadata": {},
   "outputs": [
    {
     "name": "stderr",
     "output_type": "stream",
     "text": [
      "Using TensorFlow backend.\n"
     ]
    }
   ],
   "source": [
    "import matplotlib.pyplot as plt\n",
    "\n",
    "import pandas as pd\n",
    "\n",
    "import math\n",
    "\n",
    "from keras import backend\n",
    "from keras import Input\n",
    "\n",
    "from keras.layers import concatenate, Dense, BatchNormalization\n",
    "from keras.models import Model, Sequential\n",
    "\n",
    "# for generating a png image of our model\n",
    "from keras.utils import plot_model\n",
    "from IPython.display import Image"
   ]
  },
  {
   "cell_type": "code",
   "execution_count": 2,
   "metadata": {},
   "outputs": [],
   "source": [
    "# disable the `SettingWithCopy` because we are pretty sure we know what we are doing\n",
    "pd.set_option('mode.chained_assignment', None) "
   ]
  },
  {
   "cell_type": "code",
   "execution_count": 3,
   "metadata": {},
   "outputs": [],
   "source": [
    "# when plotting, smooth out the points by some factor (0.5 = rough, 0.99 = smooth)\n",
    "# method taken from `Deep Learning with Python` by François Chollet\n",
    "\n",
    "def smooth_curve(points, factor=0.75):\n",
    "    smoothed_points = []\n",
    "    for point in points:\n",
    "        if smoothed_points:\n",
    "            previous = smoothed_points[-1]\n",
    "            smoothed_points.append(previous * factor + point * (1 - factor))\n",
    "        else:\n",
    "            smoothed_points.append(point)\n",
    "    return smoothed_points"
   ]
  },
  {
   "cell_type": "code",
   "execution_count": 4,
   "metadata": {},
   "outputs": [],
   "source": [
    "# Plot model history more easily\n",
    "\n",
    "def set_plot_history_data(ax, history, which_graph):\n",
    "\n",
    "    if which_graph == 'acc':\n",
    "        train = smooth_curve(history.history['acc'])\n",
    "        valid = smooth_curve(history.history['val_acc'])\n",
    "\n",
    "    if which_graph == 'loss':\n",
    "        train = smooth_curve(history.history['loss'])\n",
    "        valid = smooth_curve(history.history['val_loss'])\n",
    "\n",
    "    plt.xkcd() # make plots look like xkcd\n",
    "        \n",
    "    epochs = range(1, len(train) + 1)\n",
    "        \n",
    "    trim = 0 # remove first 5 epochs\n",
    "    # when graphing loss the first few epochs may skew the (loss) graph\n",
    "    \n",
    "    ax.plot(epochs[trim:], train[trim:], 'dodgerblue', label=('Training'))\n",
    "    ax.plot(epochs[trim:], train[trim:], 'dodgerblue', linewidth=15, alpha=0.1)\n",
    "    \n",
    "    ax.plot(epochs[trim:], valid[trim:], 'g', label=('Validation'))\n",
    "    ax.plot(epochs[trim:], valid[trim:], 'g', linewidth=15, alpha=0.1)\n",
    "\n",
    "    \n",
    "def get_max_validation_accuracy(history):\n",
    "    validation = smooth_curve(history.history['val_acc'])\n",
    "    ymax = max(validation)\n",
    "    return 'Max validation accuracy ≈ ' + str(round(ymax, 3)*100) + '%'"
   ]
  },
  {
   "cell_type": "code",
   "execution_count": 5,
   "metadata": {},
   "outputs": [],
   "source": [
    "def plot_history(history):    \n",
    "    \n",
    "    fig, (ax1, ax2) = plt.subplots(nrows=2,\n",
    "                                   ncols=1,\n",
    "                                   figsize=(10, 6),\n",
    "                                   sharex=True,\n",
    "                                   gridspec_kw = {'height_ratios':[5, 2]})\n",
    "\n",
    "    set_plot_history_data(ax1, history, 'acc')\n",
    "    \n",
    "    set_plot_history_data(ax2, history, 'loss')\n",
    "    \n",
    "    # Accuracy graph\n",
    "    ax1.set_ylabel('Accuracy')\n",
    "    ax1.set_ylim(bottom=0.5, top=1)\n",
    "    ax1.legend(loc=\"lower right\")\n",
    "    ax1.spines['top'].set_visible(False)\n",
    "    ax1.spines['right'].set_visible(False)\n",
    "    ax1.xaxis.set_ticks_position('none')\n",
    "    ax1.spines['bottom'].set_visible(False)\n",
    "    \n",
    "    # max accuracty text\n",
    "    plt.text(0.97,\n",
    "             0.97,\n",
    "             get_max_validation_accuracy(history),\n",
    "             horizontalalignment='right',\n",
    "             verticalalignment='top',\n",
    "             transform=ax1.transAxes,\n",
    "             fontsize=12)\n",
    "\n",
    "    # Loss graph\n",
    "    ax2.set_ylabel('Loss')\n",
    "    ax2.set_yticks([])\n",
    "    ax2.plot(legend=False)\n",
    "    ax2.set_xlabel('Epochs')\n",
    "    ax2.spines['top'].set_visible(False)\n",
    "    ax2.spines['right'].set_visible(False)\n",
    "\n",
    "    plt.tight_layout()"
   ]
  },
  {
   "cell_type": "markdown",
   "metadata": {},
   "source": [
    "# Sort images into correct categories"
   ]
  },
  {
   "cell_type": "code",
   "execution_count": 6,
   "metadata": {},
   "outputs": [],
   "source": [
    "from keras import models\n",
    "from keras import layers\n",
    "\n",
    "from keras import backend"
   ]
  },
  {
   "cell_type": "code",
   "execution_count": 7,
   "metadata": {},
   "outputs": [],
   "source": [
    "import os\n",
    "\n",
    "base_dir = '../../images/sorted'\n",
    "train_dir = os.path.join(base_dir, 'train')\n",
    "test_dir = os.path.join(base_dir, 'test')"
   ]
  },
  {
   "cell_type": "code",
   "execution_count": 12,
   "metadata": {},
   "outputs": [
    {
     "name": "stdout",
     "output_type": "stream",
     "text": [
      "Found 90 images belonging to 3 classes.\n",
      "Found 60 images belonging to 3 classes.\n",
      "data batch shape: (20, 150, 150, 3)\n",
      "labels batch shape: (20, 3)\n"
     ]
    }
   ],
   "source": [
    "from keras.preprocessing.image import ImageDataGenerator\n",
    "\n",
    "train_datagen = ImageDataGenerator(\n",
    "    height_shift_range=0.2,\n",
    "    horizontal_flip=True,\n",
    "    rescale=1./255,\n",
    "    rotation_range=40,\n",
    "    shear_range=0.2,\n",
    "    width_shift_range=0.2,\n",
    "    zoom_range=0.2)\n",
    "\n",
    "test_datagen = ImageDataGenerator(rescale=1./255)\n",
    "\n",
    "train_generator = train_datagen.flow_from_directory(\n",
    "    train_dir,\n",
    "    target_size=(150, 150),\n",
    "    batch_size=20,\n",
    "    class_mode='categorical')\n",
    "\n",
    "validation_generator = test_datagen.flow_from_directory(\n",
    "    test_dir,\n",
    "    target_size=(150, 150),\n",
    "    batch_size=20,\n",
    "    class_mode='categorical')\n",
    "\n",
    "for data_batch, labels_batch in train_generator:\n",
    "    print('data batch shape:', data_batch.shape)\n",
    "    print('labels batch shape:', labels_batch.shape)\n",
    "    break"
   ]
  },
  {
   "cell_type": "markdown",
   "metadata": {},
   "source": [
    "follows the `cat-dog.py` file"
   ]
  },
  {
   "cell_type": "code",
   "execution_count": 13,
   "metadata": {},
   "outputs": [],
   "source": [
    "backend.clear_session()\n",
    "\n",
    "model = models.Sequential()\n",
    "\n",
    "model.add(layers.Conv2D(32, (3, 3), activation='relu', input_shape=(150, 150, 3)))\n",
    "model.add(layers.MaxPooling2D(2, 2))\n",
    "\n",
    "model.add(layers.Conv2D(64, (3, 3), activation='relu'))\n",
    "model.add(layers.MaxPooling2D(2, 2))\n",
    "\n",
    "model.add(layers.Conv2D(128, (3,3), activation='relu'))\n",
    "model.add(layers.MaxPooling2D(2, 2))\n",
    "\n",
    "model.add(layers.Conv2D(128, (3,3), activation='relu'))\n",
    "model.add(layers.MaxPooling2D(2, 2))\n",
    "\n",
    "model.add(layers.Flatten())\n",
    "\n",
    "model.add(layers.Dropout(0.5))\n",
    "\n",
    "model.add(layers.Dense(512, activation='relu'))\n",
    "model.add(layers.Dense(3, activation='softmax'))"
   ]
  },
  {
   "cell_type": "code",
   "execution_count": 14,
   "metadata": {},
   "outputs": [
    {
     "name": "stdout",
     "output_type": "stream",
     "text": [
      "_________________________________________________________________\n",
      "Layer (type)                 Output Shape              Param #   \n",
      "=================================================================\n",
      "conv2d_1 (Conv2D)            (None, 148, 148, 32)      896       \n",
      "_________________________________________________________________\n",
      "max_pooling2d_1 (MaxPooling2 (None, 74, 74, 32)        0         \n",
      "_________________________________________________________________\n",
      "conv2d_2 (Conv2D)            (None, 72, 72, 64)        18496     \n",
      "_________________________________________________________________\n",
      "max_pooling2d_2 (MaxPooling2 (None, 36, 36, 64)        0         \n",
      "_________________________________________________________________\n",
      "conv2d_3 (Conv2D)            (None, 34, 34, 128)       73856     \n",
      "_________________________________________________________________\n",
      "max_pooling2d_3 (MaxPooling2 (None, 17, 17, 128)       0         \n",
      "_________________________________________________________________\n",
      "conv2d_4 (Conv2D)            (None, 15, 15, 128)       147584    \n",
      "_________________________________________________________________\n",
      "max_pooling2d_4 (MaxPooling2 (None, 7, 7, 128)         0         \n",
      "_________________________________________________________________\n",
      "flatten_1 (Flatten)          (None, 6272)              0         \n",
      "_________________________________________________________________\n",
      "dropout_1 (Dropout)          (None, 6272)              0         \n",
      "_________________________________________________________________\n",
      "dense_1 (Dense)              (None, 512)               3211776   \n",
      "_________________________________________________________________\n",
      "dense_2 (Dense)              (None, 3)                 1539      \n",
      "=================================================================\n",
      "Total params: 3,454,147\n",
      "Trainable params: 3,454,147\n",
      "Non-trainable params: 0\n",
      "_________________________________________________________________\n"
     ]
    }
   ],
   "source": [
    "model.summary()\n",
    "\n",
    "from keras import optimizers\n",
    "\n",
    "model.compile(optimizer=optimizers.RMSprop(lr=1e-4),\n",
    "              loss='categorical_crossentropy',\n",
    "              metrics=['acc'])"
   ]
  },
  {
   "cell_type": "code",
   "execution_count": 15,
   "metadata": {},
   "outputs": [
    {
     "name": "stdout",
     "output_type": "stream",
     "text": [
      "Epoch 1/5\n",
      "100/100 [==============================] - 57s 574ms/step - loss: 0.9833 - acc: 0.5055 - val_loss: 1.0746 - val_acc: 0.5520\n",
      "Epoch 2/5\n",
      "100/100 [==============================] - 50s 503ms/step - loss: 0.8258 - acc: 0.6190 - val_loss: 0.8964 - val_acc: 0.6360\n",
      "Epoch 3/5\n",
      "100/100 [==============================] - 50s 501ms/step - loss: 0.7326 - acc: 0.6735 - val_loss: 0.7993 - val_acc: 0.6510\n",
      "Epoch 4/5\n",
      "100/100 [==============================] - 50s 504ms/step - loss: 0.6338 - acc: 0.7140 - val_loss: 0.7634 - val_acc: 0.7000\n",
      "Epoch 5/5\n",
      "100/100 [==============================] - 53s 528ms/step - loss: 0.5727 - acc: 0.7390 - val_loss: 0.7512 - val_acc: 0.7030\n"
     ]
    }
   ],
   "source": [
    "history = model.fit_generator(\n",
    "    train_generator,\n",
    "    steps_per_epoch=100,\n",
    "    epochs=5,\n",
    "    validation_data=validation_generator,\n",
    "    validation_steps=50)"
   ]
  },
  {
   "cell_type": "code",
   "execution_count": 16,
   "metadata": {},
   "outputs": [
    {
     "data": {
      "image/png": "[encoded data removed]",
      "text/plain": [
       "<Figure size 720x432 with 2 Axes>"
      ]
     },
     "metadata": {},
     "output_type": "display_data"
    }
   ],
   "source": [
    "plot_history(history)"
   ]
  },
  {
   "cell_type": "code",
   "execution_count": 17,
   "metadata": {},
   "outputs": [],
   "source": [
    "# model.save('3_image_categories.h5')"
   ]
  },
  {
   "cell_type": "code",
   "execution_count": null,
   "metadata": {},
   "outputs": [],
   "source": []
  }
 ],
 "metadata": {
  "kernelspec": {
   "display_name": "Python 3",
   "language": "python",
   "name": "python3"
  },
  "language_info": {
   "codemirror_mode": {
    "name": "ipython",
    "version": 3
   },
   "file_extension": ".py",
   "mimetype": "text/x-python",
   "name": "python",
   "nbconvert_exporter": "python",
   "pygments_lexer": "ipython3",
   "version": "3.5.4"
  }
 },
 "nbformat": 4,
 "nbformat_minor": 2
}
