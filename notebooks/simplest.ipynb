{
 "cells": [
  {
   "cell_type": "markdown",
   "metadata": {},
   "source": [
    "# Simplest Keras\n",
    "\n",
    "This is an attempt to show the entire workflow of getting data to Keras, training a model, and showing its output."
   ]
  },
  {
   "cell_type": "markdown",
   "metadata": {},
   "source": [
    "### Outline:\n",
    "\n",
    " 1. [create a math function](#1) \n",
    " 2. [generate data](#2)\n",
    " 2. [plot function](#3)\n",
    " 3. prepare data for Keras\n",
    " 4. prepare training and validation sets\n",
    " 5. perpare keras model\n",
    " 6. train model\n",
    " 7. graph results"
   ]
  },
  {
   "cell_type": "markdown",
   "metadata": {},
   "source": [
    "#### 1"
   ]
  },
  {
   "cell_type": "code",
   "execution_count": 133,
   "metadata": {},
   "outputs": [],
   "source": [
    "import random"
   ]
  },
  {
   "cell_type": "code",
   "execution_count": 134,
   "metadata": {},
   "outputs": [],
   "source": [
    "def get_data_point(x, jitter):\n",
    "    preturb = (1 - random.uniform(0, jitter))\n",
    "    return (x * x) *  preturb"
   ]
  },
  {
   "cell_type": "markdown",
   "metadata": {},
   "source": [
    "#### 2"
   ]
  },
  {
   "cell_type": "code",
   "execution_count": 135,
   "metadata": {},
   "outputs": [
    {
     "name": "stdout",
     "output_type": "stream",
     "text": [
      "Generate  1000  pieces of data\n"
     ]
    }
   ],
   "source": [
    "total_data_points = 1000\n",
    "\n",
    "x_data = []\n",
    "y_data = []\n",
    "\n",
    "x_min = -10\n",
    "x_max = 10\n",
    "\n",
    "# optionally add noise to y output - % as decimal\n",
    "y_jitter = 0.3\n",
    "\n",
    "print('Generate ', total_data_points, ' pieces of data')"
   ]
  },
  {
   "cell_type": "code",
   "execution_count": 136,
   "metadata": {},
   "outputs": [],
   "source": [
    "for x in range(0, total_data_points):\n",
    "    rand_x = random.uniform(x_min, x_max)\n",
    "    x_data.append(rand_x)\n",
    "    y_data.append(get_data_point(rand_x, y_jitter))"
   ]
  },
  {
   "cell_type": "code",
   "execution_count": 137,
   "metadata": {},
   "outputs": [
    {
     "data": {
      "text/plain": [
       "[-5.539303786002665,\n",
       " -8.104073172662718,\n",
       " 2.9926107423559074,\n",
       " 1.092250474783059,\n",
       " -8.22920317478096]"
      ]
     },
     "execution_count": 137,
     "metadata": {},
     "output_type": "execute_result"
    }
   ],
   "source": [
    "x_data[:5]"
   ]
  },
  {
   "cell_type": "code",
   "execution_count": 138,
   "metadata": {},
   "outputs": [
    {
     "data": {
      "text/plain": [
       "[24.947217865178796,\n",
       " 59.63719141877262,\n",
       " 8.220261805795161,\n",
       " 0.8425458057648526,\n",
       " 55.527368354640934]"
      ]
     },
     "execution_count": 138,
     "metadata": {},
     "output_type": "execute_result"
    }
   ],
   "source": [
    "y_data[:5]"
   ]
  },
  {
   "cell_type": "markdown",
   "metadata": {},
   "source": [
    "#### 3"
   ]
  },
  {
   "cell_type": "code",
   "execution_count": 139,
   "metadata": {},
   "outputs": [
    {
     "data": {
      "image/png": "[encoded data removed]",
      "text/plain": [
       "<Figure size 432x288 with 1 Axes>"
      ]
     },
     "metadata": {},
     "output_type": "display_data"
    }
   ],
   "source": [
    "import matplotlib.pyplot as plt # pylint disable=E0401\n",
    "\n",
    "plt.plot(x_data, y_data, 'bo', label='Training loss')\n",
    "#plt.plot(epochs, val_loss, 'b', label='Validation loss')\n",
    "plt.title('Our function')\n",
    "plt.xlabel('x')\n",
    "plt.ylabel('y')\n",
    "plt.legend()\n",
    "\n",
    "plt.show()"
   ]
  },
  {
   "cell_type": "markdown",
   "metadata": {},
   "source": [
    "#### 4"
   ]
  },
  {
   "cell_type": "code",
   "execution_count": 140,
   "metadata": {},
   "outputs": [],
   "source": [
    "import pandas as pd\n",
    "\n",
    "# maybe not needed"
   ]
  },
  {
   "cell_type": "markdown",
   "metadata": {},
   "source": [
    "#### 5"
   ]
  },
  {
   "cell_type": "code",
   "execution_count": 141,
   "metadata": {},
   "outputs": [],
   "source": [
    "x_train = x_data[:800]\n",
    "y_train = y_data[:800]\n",
    "\n",
    "x_validation = x_data[800:]\n",
    "y_validation = y_data[800:]"
   ]
  },
  {
   "cell_type": "markdown",
   "metadata": {},
   "source": [
    "#### 6"
   ]
  },
  {
   "cell_type": "code",
   "execution_count": 142,
   "metadata": {},
   "outputs": [
    {
     "name": "stdout",
     "output_type": "stream",
     "text": [
      "_________________________________________________________________\n",
      "Layer (type)                 Output Shape              Param #   \n",
      "=================================================================\n",
      "dense_1 (Dense)              (None, 100)               200       \n",
      "_________________________________________________________________\n",
      "dense_2 (Dense)              (None, 20)                2020      \n",
      "_________________________________________________________________\n",
      "dense_3 (Dense)              (None, 1)                 21        \n",
      "=================================================================\n",
      "Total params: 2,241\n",
      "Trainable params: 2,241\n",
      "Non-trainable params: 0\n",
      "_________________________________________________________________\n"
     ]
    }
   ],
   "source": [
    "from keras import models\n",
    "from keras import layers\n",
    "from keras import backend\n",
    "\n",
    "backend.clear_session()\n",
    "\n",
    "model = models.Sequential()\n",
    "\n",
    "model.add(layers.Dense(100, input_shape=(1,)))\n",
    "model.add(layers.Dense(20))\n",
    "model.add(layers.Dense(1, activation='linear'))\n",
    "\n",
    "model.compile(optimizer='rmsprop',\n",
    "              loss='mean_squared_error', \n",
    "              metrics=['accuracy'])\n",
    "\n",
    "model.summary()"
   ]
  },
  {
   "cell_type": "markdown",
   "metadata": {},
   "source": [
    "#### 7"
   ]
  },
  {
   "cell_type": "code",
   "execution_count": 152,
   "metadata": {},
   "outputs": [
    {
     "data": {
      "application/vnd.jupyter.widget-view+json": {
       "model_id": "65cd377bd98c470b9552f2458604c0fe",
       "version_major": 2,
       "version_minor": 0
      },
      "text/plain": [
       "FloatProgress(value=0.0, max=1000.0)"
      ]
     },
     "metadata": {},
     "output_type": "display_data"
    }
   ],
   "source": [
    "from ipywidgets import FloatProgress\n",
    "from IPython.display import display\n",
    "\n",
    "f = FloatProgress(min=0, max=total_data_points)\n",
    "display(f)\n",
    "\n",
    "# custom callback - not required, just looks nice\n",
    "from keras import callbacks\n",
    "\n",
    "class LossHistory(callbacks.Callback):\n",
    "    def on_train_begin(self, logs={}):\n",
    "        print('starting')\n",
    "\n",
    "    def on_epoch_end(self, batch, logs={}):\n",
    "        f.value += 1\n",
    "\n",
    "    def on_train_end(self, logs={}):\n",
    "        print('finished')"
   ]
  },
  {
   "cell_type": "code",
   "execution_count": 151,
   "metadata": {},
   "outputs": [
    {
     "name": "stdout",
     "output_type": "stream",
     "text": [
      "Train on 800 samples, validate on 200 samples\n",
      "starting\n",
      "Epoch 1/50\n",
      "800/800 [==============================] - 0s 16us/step - loss: 652.3815 - acc: 0.0000e+00 - val_loss: 659.3378 - val_acc: 0.0000e+00\n",
      "Epoch 2/50\n",
      "800/800 [==============================] - 0s 17us/step - loss: 649.4772 - acc: 0.0000e+00 - val_loss: 654.6929 - val_acc: 0.0000e+00\n",
      "Epoch 3/50\n",
      "800/800 [==============================] - 0s 18us/step - loss: 652.1044 - acc: 0.0000e+00 - val_loss: 648.3616 - val_acc: 0.0000e+00\n",
      "Epoch 4/50\n",
      "800/800 [==============================] - 0s 16us/step - loss: 650.3347 - acc: 0.0000e+00 - val_loss: 659.7164 - val_acc: 0.0000e+00\n",
      "Epoch 5/50\n",
      "800/800 [==============================] - 0s 16us/step - loss: 650.8487 - acc: 0.0000e+00 - val_loss: 645.4329 - val_acc: 0.0000e+00\n",
      "Epoch 6/50\n",
      "800/800 [==============================] - 0s 16us/step - loss: 648.4719 - acc: 0.0000e+00 - val_loss: 676.0424 - val_acc: 0.0000e+00\n",
      "Epoch 7/50\n",
      "800/800 [==============================] - 0s 15us/step - loss: 652.1229 - acc: 0.0000e+00 - val_loss: 659.1430 - val_acc: 0.0000e+00\n",
      "Epoch 8/50\n",
      "800/800 [==============================] - 0s 16us/step - loss: 648.6208 - acc: 0.0000e+00 - val_loss: 652.8518 - val_acc: 0.0000e+00\n",
      "Epoch 9/50\n",
      "800/800 [==============================] - 0s 15us/step - loss: 652.2621 - acc: 0.0000e+00 - val_loss: 654.9794 - val_acc: 0.0000e+00\n",
      "Epoch 10/50\n",
      "800/800 [==============================] - 0s 15us/step - loss: 651.1303 - acc: 0.0000e+00 - val_loss: 659.6814 - val_acc: 0.0000e+00\n",
      "Epoch 11/50\n",
      "800/800 [==============================] - 0s 15us/step - loss: 648.9522 - acc: 0.0000e+00 - val_loss: 673.2829 - val_acc: 0.0000e+00\n",
      "Epoch 12/50\n",
      "800/800 [==============================] - 0s 17us/step - loss: 651.1611 - acc: 0.0000e+00 - val_loss: 649.7220 - val_acc: 0.0000e+00\n",
      "Epoch 13/50\n",
      "800/800 [==============================] - 0s 15us/step - loss: 653.1058 - acc: 0.0000e+00 - val_loss: 650.1524 - val_acc: 0.0000e+00\n",
      "Epoch 14/50\n",
      "800/800 [==============================] - 0s 16us/step - loss: 649.1331 - acc: 0.0000e+00 - val_loss: 658.5203 - val_acc: 0.0000e+00\n",
      "Epoch 15/50\n",
      "800/800 [==============================] - 0s 15us/step - loss: 649.4562 - acc: 0.0000e+00 - val_loss: 651.2396 - val_acc: 0.0000e+00\n",
      "Epoch 16/50\n",
      "800/800 [==============================] - 0s 14us/step - loss: 649.3735 - acc: 0.0000e+00 - val_loss: 673.0024 - val_acc: 0.0000e+00\n",
      "Epoch 17/50\n",
      "800/800 [==============================] - 0s 17us/step - loss: 650.6764 - acc: 0.0000e+00 - val_loss: 667.2108 - val_acc: 0.0000e+00\n",
      "Epoch 18/50\n",
      "800/800 [==============================] - 0s 15us/step - loss: 656.1736 - acc: 0.0000e+00 - val_loss: 658.8784 - val_acc: 0.0000e+00\n",
      "Epoch 19/50\n",
      "800/800 [==============================] - 0s 15us/step - loss: 649.7827 - acc: 0.0000e+00 - val_loss: 650.5250 - val_acc: 0.0000e+00\n",
      "Epoch 20/50\n",
      "800/800 [==============================] - 0s 15us/step - loss: 649.6173 - acc: 0.0000e+00 - val_loss: 659.7553 - val_acc: 0.0000e+00\n",
      "Epoch 21/50\n",
      "800/800 [==============================] - 0s 14us/step - loss: 648.3892 - acc: 0.0000e+00 - val_loss: 649.9766 - val_acc: 0.0000e+00\n",
      "Epoch 22/50\n",
      "800/800 [==============================] - 0s 15us/step - loss: 654.2420 - acc: 0.0000e+00 - val_loss: 645.2346 - val_acc: 0.0000e+00\n",
      "Epoch 23/50\n",
      "800/800 [==============================] - 0s 16us/step - loss: 652.4297 - acc: 0.0000e+00 - val_loss: 646.1832 - val_acc: 0.0000e+00\n",
      "Epoch 24/50\n",
      "800/800 [==============================] - 0s 16us/step - loss: 649.1852 - acc: 0.0000e+00 - val_loss: 658.0186 - val_acc: 0.0000e+00\n",
      "Epoch 25/50\n",
      "800/800 [==============================] - 0s 15us/step - loss: 652.4394 - acc: 0.0000e+00 - val_loss: 653.8086 - val_acc: 0.0000e+00\n",
      "Epoch 26/50\n",
      "800/800 [==============================] - 0s 17us/step - loss: 651.4981 - acc: 0.0000e+00 - val_loss: 650.3885 - val_acc: 0.0000e+00\n",
      "Epoch 27/50\n",
      "800/800 [==============================] - 0s 16us/step - loss: 651.7979 - acc: 0.0000e+00 - val_loss: 649.1827 - val_acc: 0.0000e+00\n",
      "Epoch 28/50\n",
      "800/800 [==============================] - 0s 15us/step - loss: 650.2148 - acc: 0.0000e+00 - val_loss: 652.0866 - val_acc: 0.0000e+00\n",
      "Epoch 29/50\n",
      "800/800 [==============================] - 0s 16us/step - loss: 652.2367 - acc: 0.0000e+00 - val_loss: 658.9089 - val_acc: 0.0000e+00\n",
      "Epoch 30/50\n",
      "800/800 [==============================] - 0s 16us/step - loss: 651.1075 - acc: 0.0000e+00 - val_loss: 660.1816 - val_acc: 0.0000e+00\n",
      "Epoch 31/50\n",
      "800/800 [==============================] - 0s 16us/step - loss: 647.9272 - acc: 0.0000e+00 - val_loss: 643.2015 - val_acc: 0.0000e+00\n",
      "Epoch 32/50\n",
      "800/800 [==============================] - 0s 15us/step - loss: 652.1683 - acc: 0.0000e+00 - val_loss: 645.6786 - val_acc: 0.0000e+00\n",
      "Epoch 33/50\n",
      "800/800 [==============================] - 0s 15us/step - loss: 652.5346 - acc: 0.0000e+00 - val_loss: 653.2850 - val_acc: 0.0000e+00\n",
      "Epoch 34/50\n",
      "800/800 [==============================] - 0s 17us/step - loss: 649.6975 - acc: 0.0000e+00 - val_loss: 658.1062 - val_acc: 0.0000e+00\n",
      "Epoch 35/50\n",
      "800/800 [==============================] - 0s 17us/step - loss: 652.0171 - acc: 0.0000e+00 - val_loss: 659.6881 - val_acc: 0.0000e+00\n",
      "Epoch 36/50\n",
      "800/800 [==============================] - 0s 15us/step - loss: 652.0823 - acc: 0.0000e+00 - val_loss: 657.0471 - val_acc: 0.0000e+00\n",
      "Epoch 37/50\n",
      "800/800 [==============================] - 0s 14us/step - loss: 649.5858 - acc: 0.0000e+00 - val_loss: 661.0161 - val_acc: 0.0000e+00\n",
      "Epoch 38/50\n",
      "800/800 [==============================] - 0s 16us/step - loss: 648.9565 - acc: 0.0000e+00 - val_loss: 647.1732 - val_acc: 0.0000e+00\n",
      "Epoch 39/50\n",
      "800/800 [==============================] - 0s 16us/step - loss: 650.0674 - acc: 0.0000e+00 - val_loss: 651.0211 - val_acc: 0.0000e+00\n",
      "Epoch 40/50\n",
      "800/800 [==============================] - 0s 16us/step - loss: 648.8873 - acc: 0.0000e+00 - val_loss: 643.1184 - val_acc: 0.0000e+00\n",
      "Epoch 41/50\n",
      "800/800 [==============================] - 0s 15us/step - loss: 649.1085 - acc: 0.0000e+00 - val_loss: 673.8836 - val_acc: 0.0000e+00\n",
      "Epoch 42/50\n",
      "800/800 [==============================] - 0s 17us/step - loss: 652.0587 - acc: 0.0000e+00 - val_loss: 653.7536 - val_acc: 0.0000e+00\n",
      "Epoch 43/50\n",
      "800/800 [==============================] - 0s 16us/step - loss: 648.7083 - acc: 0.0000e+00 - val_loss: 646.0488 - val_acc: 0.0000e+00\n",
      "Epoch 44/50\n",
      "800/800 [==============================] - 0s 14us/step - loss: 651.3731 - acc: 0.0000e+00 - val_loss: 650.5078 - val_acc: 0.0000e+00\n",
      "Epoch 45/50\n",
      "800/800 [==============================] - 0s 16us/step - loss: 648.2781 - acc: 0.0000e+00 - val_loss: 648.7417 - val_acc: 0.0000e+00\n",
      "Epoch 46/50\n",
      "800/800 [==============================] - 0s 17us/step - loss: 650.3025 - acc: 0.0000e+00 - val_loss: 656.6432 - val_acc: 0.0000e+00\n",
      "Epoch 47/50\n",
      "800/800 [==============================] - 0s 14us/step - loss: 649.5509 - acc: 0.0000e+00 - val_loss: 659.2430 - val_acc: 0.0000e+00\n",
      "Epoch 48/50\n",
      "800/800 [==============================] - 0s 15us/step - loss: 650.9215 - acc: 0.0000e+00 - val_loss: 653.3529 - val_acc: 0.0000e+00\n",
      "Epoch 49/50\n",
      "800/800 [==============================] - 0s 16us/step - loss: 651.2428 - acc: 0.0000e+00 - val_loss: 652.1037 - val_acc: 0.0000e+00\n",
      "Epoch 50/50\n",
      "800/800 [==============================] - 0s 15us/step - loss: 652.8879 - acc: 0.0000e+00 - val_loss: 658.7267 - val_acc: 0.0000e+00\n",
      "finished\n"
     ]
    }
   ],
   "source": [
    "history = model.fit(x_train, \n",
    "                    y_train, \n",
    "                    batch_size=100, \n",
    "                    epochs=50,\n",
    "                    # can disable the next line if desired\n",
    "                    callbacks=[LossHistory()],\n",
    "                    validation_data=(x_validation, y_validation))"
   ]
  },
  {
   "cell_type": "markdown",
   "metadata": {},
   "source": [
    "#### 8"
   ]
  },
  {
   "cell_type": "code",
   "execution_count": 145,
   "metadata": {},
   "outputs": [
    {
     "data": {
      "image/png": "[encoded data removed]",
      "text/plain": [
       "<Figure size 432x288 with 1 Axes>"
      ]
     },
     "metadata": {},
     "output_type": "display_data"
    }
   ],
   "source": [
    "loss = history.history['loss']\n",
    "val_loss = history.history['val_loss']\n",
    "\n",
    "epochs = range(1, len(loss) + 1)\n",
    "\n",
    "plt.plot(epochs, loss, 'bo', label='Training loss')\n",
    "plt.plot(epochs, val_loss, 'b', label='Validation loss')\n",
    "plt.title('Training and validation loss')\n",
    "plt.xlabel('Epochs')\n",
    "plt.ylabel('Loss')\n",
    "plt.legend()\n",
    "\n",
    "plt.show()"
   ]
  },
  {
   "cell_type": "code",
   "execution_count": 146,
   "metadata": {},
   "outputs": [
    {
     "data": {
      "image/png": "[encoded data removed]",
      "text/plain": [
       "<Figure size 432x288 with 1 Axes>"
      ]
     },
     "metadata": {},
     "output_type": "display_data"
    }
   ],
   "source": [
    "accuracy = history.history['acc']\n",
    "val_acc = history.history['val_acc']\n",
    "\n",
    "plt.plot(epochs, accuracy, 'bo', label='Accuracy')\n",
    "plt.plot(epochs, val_acc, 'b', label='Validation accuracy')\n",
    "plt.title('Training and validation accuracy')\n",
    "plt.xlabel('Epochs')\n",
    "plt.ylabel('Accuracy')\n",
    "plt.legend()\n",
    "\n",
    "plt.show()"
   ]
  },
  {
   "cell_type": "code",
   "execution_count": null,
   "metadata": {},
   "outputs": [],
   "source": []
  },
  {
   "cell_type": "code",
   "execution_count": null,
   "metadata": {},
   "outputs": [],
   "source": []
  }
 ],
 "metadata": {
  "kernelspec": {
   "display_name": "Python 3",
   "language": "python",
   "name": "python3"
  },
  "language_info": {
   "codemirror_mode": {
    "name": "ipython",
    "version": 3
   },
   "file_extension": ".py",
   "mimetype": "text/x-python",
   "name": "python",
   "nbconvert_exporter": "python",
   "pygments_lexer": "ipython3",
   "version": "3.6.4"
  }
 },
 "nbformat": 4,
 "nbformat_minor": 2
}
